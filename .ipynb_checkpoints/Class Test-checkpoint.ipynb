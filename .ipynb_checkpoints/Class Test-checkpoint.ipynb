{
 "cells": [
  {
   "cell_type": "code",
   "execution_count": null,
   "id": "2780bdce",
   "metadata": {},
   "outputs": [],
   "source": [
    "import pandas as pd\n",
    "import numpy as np\n",
    "from sklearn.model_selection import train_test_split\n",
    "from sklearn.linear_model import LinearRegression"
   ]
  },
  {
   "cell_type": "code",
   "execution_count": null,
   "id": "d687834b",
   "metadata": {},
   "outputs": [],
   "source": [
    "exam = pd.read_csv('exam.csv')"
   ]
  },
  {
   "cell_type": "code",
   "execution_count": null,
   "id": "2e8d203f",
   "metadata": {},
   "outputs": [],
   "source": [
    "exam.head()"
   ]
  },
  {
   "cell_type": "code",
   "execution_count": null,
   "id": "99e726da",
   "metadata": {},
   "outputs": [],
   "source": [
    "exam.info()"
   ]
  },
  {
   "cell_type": "code",
   "execution_count": null,
   "id": "892deeb4",
   "metadata": {},
   "outputs": [],
   "source": [
    "exam.isnull().sum()"
   ]
  },
  {
   "cell_type": "code",
   "execution_count": null,
   "id": "cfbf0d8a",
   "metadata": {},
   "outputs": [],
   "source": [
    "exam.describe()"
   ]
  },
  {
   "cell_type": "markdown",
   "id": "62c0f53c",
   "metadata": {},
   "source": [
    "# Splitting into X-feature and y-target"
   ]
  },
  {
   "cell_type": "code",
   "execution_count": null,
   "id": "9fccca29",
   "metadata": {},
   "outputs": [],
   "source": [
    "np.array(exam)"
   ]
  },
  {
   "cell_type": "code",
   "execution_count": null,
   "id": "6da4ac7b",
   "metadata": {},
   "outputs": [],
   "source": [
    "X = exam[['hours_study', 'attendance']]"
   ]
  },
  {
   "cell_type": "code",
   "execution_count": null,
   "id": "a47ff997",
   "metadata": {},
   "outputs": [],
   "source": [
    "y = exam.score"
   ]
  },
  {
   "cell_type": "markdown",
   "id": "0ebaa804",
   "metadata": {},
   "source": [
    "# Splitting into test and train"
   ]
  },
  {
   "cell_type": "code",
   "execution_count": null,
   "id": "c1b304e6",
   "metadata": {},
   "outputs": [],
   "source": [
    "X_train,X_test, y_train,y_test = train_test_split(X, y, train_size=.80, random_state=2, shuffle=True,)"
   ]
  },
  {
   "cell_type": "code",
   "execution_count": null,
   "id": "bea38b96",
   "metadata": {},
   "outputs": [],
   "source": [
    "print(\"shape of X_train \",(X_train).shape)"
   ]
  },
  {
   "cell_type": "code",
   "execution_count": null,
   "id": "bd7b5001",
   "metadata": {},
   "outputs": [],
   "source": [
    "print(\"shape of X_test \",(X_test).shape)\n",
    "print(\"shape of y_train \",(y_train).shape)\n",
    "print(\"shape of y_test \",(y_test).shape)"
   ]
  },
  {
   "cell_type": "code",
   "execution_count": null,
   "id": "3b49421c",
   "metadata": {},
   "outputs": [],
   "source": [
    "from sklearn.metrics import accuracy_score,confusion_matrix"
   ]
  },
  {
   "cell_type": "code",
   "execution_count": null,
   "id": "913611fd",
   "metadata": {},
   "outputs": [],
   "source": [
    "lr = LinearRegression()"
   ]
  },
  {
   "cell_type": "code",
   "execution_count": null,
   "id": "5b103e2e",
   "metadata": {},
   "outputs": [],
   "source": [
    "lr.fit(X_train,y_train)"
   ]
  },
  {
   "cell_type": "code",
   "execution_count": null,
   "id": "845557eb",
   "metadata": {},
   "outputs": [],
   "source": [
    "lr.score(X_test, y_test)"
   ]
  },
  {
   "cell_type": "code",
   "execution_count": null,
   "id": "307a1792",
   "metadata": {},
   "outputs": [],
   "source": [
    "ylr_pred = lr.predict(X_test)"
   ]
  },
  {
   "cell_type": "code",
   "execution_count": null,
   "id": "cf19f40c",
   "metadata": {},
   "outputs": [],
   "source": [
    "ylr_pred"
   ]
  },
  {
   "cell_type": "code",
   "execution_count": null,
   "id": "e5050d46",
   "metadata": {},
   "outputs": [],
   "source": [
    "class BankAccount:\n",
    "     def __init__(self, accName, accNo, accBal):\n",
    "            self.accName = accName\n",
    "            self.accNo = accNo\n",
    "            self.accBal = accBal\n"
   ]
  },
  {
   "cell_type": "code",
   "execution_count": null,
   "id": "0f9191dc",
   "metadata": {},
   "outputs": [],
   "source": [
    "def deposit(self, amount):\n",
    "    if amount > 0:\n",
    "        self.accBal += amounprint(f\"Deposited {amount}, New balance is {self.accBal}.\")\n",
    "         else:\n",
    "             print(\"Depo sit amount must be positive\")\n"
   ]
  }
 ],
 "metadata": {
  "kernelspec": {
   "display_name": "Python 3 (ipykernel)",
   "language": "python",
   "name": "python3"
  },
  "language_info": {
   "codemirror_mode": {
    "name": "ipython",
    "version": 3
   },
   "file_extension": ".py",
   "mimetype": "text/x-python",
   "name": "python",
   "nbconvert_exporter": "python",
   "pygments_lexer": "ipython3",
   "version": "3.11.5"
  }
 },
 "nbformat": 4,
 "nbformat_minor": 5
}
