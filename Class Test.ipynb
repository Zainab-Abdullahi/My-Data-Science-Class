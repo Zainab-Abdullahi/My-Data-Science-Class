{
 "cells": [
  {
   "cell_type": "code",
   "execution_count": 1,
   "id": "2780bdce",
   "metadata": {},
   "outputs": [],
   "source": [
    "import pandas as pd\n",
    "import numpy as np\n",
    "from sklearn.model_selection import train_test_split\n",
    "from sklearn.linear_model import LinearRegression"
   ]
  },
  {
   "cell_type": "code",
   "execution_count": 2,
   "id": "d687834b",
   "metadata": {},
   "outputs": [],
   "source": [
    "exam = pd.read_csv('exam.csv')"
   ]
  },
  {
   "cell_type": "code",
   "execution_count": 3,
   "id": "2e8d203f",
   "metadata": {},
   "outputs": [
    {
     "data": {
      "text/html": [
       "<div>\n",
       "<style scoped>\n",
       "    .dataframe tbody tr th:only-of-type {\n",
       "        vertical-align: middle;\n",
       "    }\n",
       "\n",
       "    .dataframe tbody tr th {\n",
       "        vertical-align: top;\n",
       "    }\n",
       "\n",
       "    .dataframe thead th {\n",
       "        text-align: right;\n",
       "    }\n",
       "</style>\n",
       "<table border=\"1\" class=\"dataframe\">\n",
       "  <thead>\n",
       "    <tr style=\"text-align: right;\">\n",
       "      <th></th>\n",
       "      <th>hours_study</th>\n",
       "      <th>attendance</th>\n",
       "      <th>score</th>\n",
       "    </tr>\n",
       "  </thead>\n",
       "  <tbody>\n",
       "    <tr>\n",
       "      <th>0</th>\n",
       "      <td>6</td>\n",
       "      <td>87</td>\n",
       "      <td>19.53</td>\n",
       "    </tr>\n",
       "    <tr>\n",
       "      <th>1</th>\n",
       "      <td>5</td>\n",
       "      <td>99</td>\n",
       "      <td>21.13</td>\n",
       "    </tr>\n",
       "    <tr>\n",
       "      <th>2</th>\n",
       "      <td>4</td>\n",
       "      <td>51</td>\n",
       "      <td>10.73</td>\n",
       "    </tr>\n",
       "    <tr>\n",
       "      <th>3</th>\n",
       "      <td>5</td>\n",
       "      <td>62</td>\n",
       "      <td>13.73</td>\n",
       "    </tr>\n",
       "    <tr>\n",
       "      <th>4</th>\n",
       "      <td>3</td>\n",
       "      <td>67</td>\n",
       "      <td>13.13</td>\n",
       "    </tr>\n",
       "    <tr>\n",
       "      <th>...</th>\n",
       "      <td>...</td>\n",
       "      <td>...</td>\n",
       "      <td>...</td>\n",
       "    </tr>\n",
       "    <tr>\n",
       "      <th>1995</th>\n",
       "      <td>6</td>\n",
       "      <td>83</td>\n",
       "      <td>18.73</td>\n",
       "    </tr>\n",
       "    <tr>\n",
       "      <th>1996</th>\n",
       "      <td>2</td>\n",
       "      <td>85</td>\n",
       "      <td>15.93</td>\n",
       "    </tr>\n",
       "    <tr>\n",
       "      <th>1997</th>\n",
       "      <td>2</td>\n",
       "      <td>99</td>\n",
       "      <td>18.73</td>\n",
       "    </tr>\n",
       "    <tr>\n",
       "      <th>1998</th>\n",
       "      <td>4</td>\n",
       "      <td>51</td>\n",
       "      <td>10.73</td>\n",
       "    </tr>\n",
       "    <tr>\n",
       "      <th>1999</th>\n",
       "      <td>1</td>\n",
       "      <td>54</td>\n",
       "      <td>8.93</td>\n",
       "    </tr>\n",
       "  </tbody>\n",
       "</table>\n",
       "<p>2000 rows × 3 columns</p>\n",
       "</div>"
      ],
      "text/plain": [
       "      hours_study  attendance  score\n",
       "0               6          87  19.53\n",
       "1               5          99  21.13\n",
       "2               4          51  10.73\n",
       "3               5          62  13.73\n",
       "4               3          67  13.13\n",
       "...           ...         ...    ...\n",
       "1995            6          83  18.73\n",
       "1996            2          85  15.93\n",
       "1997            2          99  18.73\n",
       "1998            4          51  10.73\n",
       "1999            1          54   8.93\n",
       "\n",
       "[2000 rows x 3 columns]"
      ]
     },
     "execution_count": 3,
     "metadata": {},
     "output_type": "execute_result"
    }
   ],
   "source": [
    "exam"
   ]
  },
  {
   "cell_type": "code",
   "execution_count": 4,
   "id": "99e726da",
   "metadata": {},
   "outputs": [
    {
     "name": "stdout",
     "output_type": "stream",
     "text": [
      "<class 'pandas.core.frame.DataFrame'>\n",
      "RangeIndex: 2000 entries, 0 to 1999\n",
      "Data columns (total 3 columns):\n",
      " #   Column       Non-Null Count  Dtype  \n",
      "---  ------       --------------  -----  \n",
      " 0   hours_study  2000 non-null   int64  \n",
      " 1   attendance   2000 non-null   int64  \n",
      " 2   score        2000 non-null   float64\n",
      "dtypes: float64(1), int64(2)\n",
      "memory usage: 47.0 KB\n"
     ]
    }
   ],
   "source": [
    "exam.info()"
   ]
  },
  {
   "cell_type": "code",
   "execution_count": 5,
   "id": "892deeb4",
   "metadata": {},
   "outputs": [
    {
     "data": {
      "text/plain": [
       "hours_study    0\n",
       "attendance     0\n",
       "score          0\n",
       "dtype: int64"
      ]
     },
     "execution_count": 5,
     "metadata": {},
     "output_type": "execute_result"
    }
   ],
   "source": [
    "exam.isnull().sum()"
   ]
  },
  {
   "cell_type": "code",
   "execution_count": 6,
   "id": "cfbf0d8a",
   "metadata": {},
   "outputs": [
    {
     "data": {
      "text/html": [
       "<div>\n",
       "<style scoped>\n",
       "    .dataframe tbody tr th:only-of-type {\n",
       "        vertical-align: middle;\n",
       "    }\n",
       "\n",
       "    .dataframe tbody tr th {\n",
       "        vertical-align: top;\n",
       "    }\n",
       "\n",
       "    .dataframe thead th {\n",
       "        text-align: right;\n",
       "    }\n",
       "</style>\n",
       "<table border=\"1\" class=\"dataframe\">\n",
       "  <thead>\n",
       "    <tr style=\"text-align: right;\">\n",
       "      <th></th>\n",
       "      <th>hours_study</th>\n",
       "      <th>attendance</th>\n",
       "      <th>score</th>\n",
       "    </tr>\n",
       "  </thead>\n",
       "  <tbody>\n",
       "    <tr>\n",
       "      <th>count</th>\n",
       "      <td>2000.000000</td>\n",
       "      <td>2000.000000</td>\n",
       "      <td>2000.000000</td>\n",
       "    </tr>\n",
       "    <tr>\n",
       "      <th>mean</th>\n",
       "      <td>3.535500</td>\n",
       "      <td>74.678500</td>\n",
       "      <td>15.094100</td>\n",
       "    </tr>\n",
       "    <tr>\n",
       "      <th>std</th>\n",
       "      <td>1.709152</td>\n",
       "      <td>14.410863</td>\n",
       "      <td>3.210602</td>\n",
       "    </tr>\n",
       "    <tr>\n",
       "      <th>min</th>\n",
       "      <td>1.000000</td>\n",
       "      <td>50.000000</td>\n",
       "      <td>8.130000</td>\n",
       "    </tr>\n",
       "    <tr>\n",
       "      <th>25%</th>\n",
       "      <td>2.000000</td>\n",
       "      <td>62.000000</td>\n",
       "      <td>12.530000</td>\n",
       "    </tr>\n",
       "    <tr>\n",
       "      <th>50%</th>\n",
       "      <td>4.000000</td>\n",
       "      <td>75.000000</td>\n",
       "      <td>15.130000</td>\n",
       "    </tr>\n",
       "    <tr>\n",
       "      <th>75%</th>\n",
       "      <td>5.000000</td>\n",
       "      <td>87.000000</td>\n",
       "      <td>17.730000</td>\n",
       "    </tr>\n",
       "    <tr>\n",
       "      <th>max</th>\n",
       "      <td>6.000000</td>\n",
       "      <td>99.000000</td>\n",
       "      <td>21.930000</td>\n",
       "    </tr>\n",
       "  </tbody>\n",
       "</table>\n",
       "</div>"
      ],
      "text/plain": [
       "       hours_study   attendance        score\n",
       "count  2000.000000  2000.000000  2000.000000\n",
       "mean      3.535500    74.678500    15.094100\n",
       "std       1.709152    14.410863     3.210602\n",
       "min       1.000000    50.000000     8.130000\n",
       "25%       2.000000    62.000000    12.530000\n",
       "50%       4.000000    75.000000    15.130000\n",
       "75%       5.000000    87.000000    17.730000\n",
       "max       6.000000    99.000000    21.930000"
      ]
     },
     "execution_count": 6,
     "metadata": {},
     "output_type": "execute_result"
    }
   ],
   "source": [
    "exam.describe()"
   ]
  },
  {
   "cell_type": "markdown",
   "id": "62c0f53c",
   "metadata": {},
   "source": [
    "# Splitting into X-feature and y-target"
   ]
  },
  {
   "cell_type": "code",
   "execution_count": 7,
   "id": "9fccca29",
   "metadata": {},
   "outputs": [
    {
     "data": {
      "text/plain": [
       "array([[ 6.  , 87.  , 19.53],\n",
       "       [ 5.  , 99.  , 21.13],\n",
       "       [ 4.  , 51.  , 10.73],\n",
       "       ...,\n",
       "       [ 2.  , 99.  , 18.73],\n",
       "       [ 4.  , 51.  , 10.73],\n",
       "       [ 1.  , 54.  ,  8.93]])"
      ]
     },
     "execution_count": 7,
     "metadata": {},
     "output_type": "execute_result"
    }
   ],
   "source": [
    "np.array(exam)"
   ]
  },
  {
   "cell_type": "code",
   "execution_count": 8,
   "id": "6da4ac7b",
   "metadata": {},
   "outputs": [],
   "source": [
    "X = exam[['hours_study', 'attendance']]"
   ]
  },
  {
   "cell_type": "code",
   "execution_count": 9,
   "id": "a47ff997",
   "metadata": {},
   "outputs": [],
   "source": [
    "y = exam.score"
   ]
  },
  {
   "cell_type": "markdown",
   "id": "0ebaa804",
   "metadata": {},
   "source": [
    "# Splitting into test and train"
   ]
  },
  {
   "cell_type": "code",
   "execution_count": 10,
   "id": "c1b304e6",
   "metadata": {},
   "outputs": [],
   "source": [
    "X_train,X_test, y_train,y_test = train_test_split(X, y, train_size=.80, random_state=2, shuffle=True,)"
   ]
  },
  {
   "cell_type": "code",
   "execution_count": 11,
   "id": "bea38b96",
   "metadata": {},
   "outputs": [
    {
     "name": "stdout",
     "output_type": "stream",
     "text": [
      "shape of X_train  (1600, 2)\n"
     ]
    }
   ],
   "source": [
    "print(\"shape of X_train \",(X_train).shape)"
   ]
  },
  {
   "cell_type": "code",
   "execution_count": 12,
   "id": "bd7b5001",
   "metadata": {},
   "outputs": [
    {
     "name": "stdout",
     "output_type": "stream",
     "text": [
      "shape of X_test  (400, 2)\n",
      "shape of y_train  (1600,)\n",
      "shape of y_test  (400,)\n"
     ]
    }
   ],
   "source": [
    "print(\"shape of X_test \",(X_test).shape)\n",
    "print(\"shape of y_train \",(y_train).shape)\n",
    "print(\"shape of y_test \",(y_test).shape)"
   ]
  },
  {
   "cell_type": "code",
   "execution_count": 13,
   "id": "3b49421c",
   "metadata": {},
   "outputs": [],
   "source": [
    "from sklearn.metrics import accuracy_score,confusion_matrix"
   ]
  },
  {
   "cell_type": "code",
   "execution_count": 19,
   "id": "913611fd",
   "metadata": {},
   "outputs": [],
   "source": [
    "lr = LinearRegression()"
   ]
  },
  {
   "cell_type": "code",
   "execution_count": 20,
   "id": "5b103e2e",
   "metadata": {},
   "outputs": [
    {
     "data": {
      "text/html": [
       "<style>#sk-container-id-1 {color: black;}#sk-container-id-1 pre{padding: 0;}#sk-container-id-1 div.sk-toggleable {background-color: white;}#sk-container-id-1 label.sk-toggleable__label {cursor: pointer;display: block;width: 100%;margin-bottom: 0;padding: 0.3em;box-sizing: border-box;text-align: center;}#sk-container-id-1 label.sk-toggleable__label-arrow:before {content: \"▸\";float: left;margin-right: 0.25em;color: #696969;}#sk-container-id-1 label.sk-toggleable__label-arrow:hover:before {color: black;}#sk-container-id-1 div.sk-estimator:hover label.sk-toggleable__label-arrow:before {color: black;}#sk-container-id-1 div.sk-toggleable__content {max-height: 0;max-width: 0;overflow: hidden;text-align: left;background-color: #f0f8ff;}#sk-container-id-1 div.sk-toggleable__content pre {margin: 0.2em;color: black;border-radius: 0.25em;background-color: #f0f8ff;}#sk-container-id-1 input.sk-toggleable__control:checked~div.sk-toggleable__content {max-height: 200px;max-width: 100%;overflow: auto;}#sk-container-id-1 input.sk-toggleable__control:checked~label.sk-toggleable__label-arrow:before {content: \"▾\";}#sk-container-id-1 div.sk-estimator input.sk-toggleable__control:checked~label.sk-toggleable__label {background-color: #d4ebff;}#sk-container-id-1 div.sk-label input.sk-toggleable__control:checked~label.sk-toggleable__label {background-color: #d4ebff;}#sk-container-id-1 input.sk-hidden--visually {border: 0;clip: rect(1px 1px 1px 1px);clip: rect(1px, 1px, 1px, 1px);height: 1px;margin: -1px;overflow: hidden;padding: 0;position: absolute;width: 1px;}#sk-container-id-1 div.sk-estimator {font-family: monospace;background-color: #f0f8ff;border: 1px dotted black;border-radius: 0.25em;box-sizing: border-box;margin-bottom: 0.5em;}#sk-container-id-1 div.sk-estimator:hover {background-color: #d4ebff;}#sk-container-id-1 div.sk-parallel-item::after {content: \"\";width: 100%;border-bottom: 1px solid gray;flex-grow: 1;}#sk-container-id-1 div.sk-label:hover label.sk-toggleable__label {background-color: #d4ebff;}#sk-container-id-1 div.sk-serial::before {content: \"\";position: absolute;border-left: 1px solid gray;box-sizing: border-box;top: 0;bottom: 0;left: 50%;z-index: 0;}#sk-container-id-1 div.sk-serial {display: flex;flex-direction: column;align-items: center;background-color: white;padding-right: 0.2em;padding-left: 0.2em;position: relative;}#sk-container-id-1 div.sk-item {position: relative;z-index: 1;}#sk-container-id-1 div.sk-parallel {display: flex;align-items: stretch;justify-content: center;background-color: white;position: relative;}#sk-container-id-1 div.sk-item::before, #sk-container-id-1 div.sk-parallel-item::before {content: \"\";position: absolute;border-left: 1px solid gray;box-sizing: border-box;top: 0;bottom: 0;left: 50%;z-index: -1;}#sk-container-id-1 div.sk-parallel-item {display: flex;flex-direction: column;z-index: 1;position: relative;background-color: white;}#sk-container-id-1 div.sk-parallel-item:first-child::after {align-self: flex-end;width: 50%;}#sk-container-id-1 div.sk-parallel-item:last-child::after {align-self: flex-start;width: 50%;}#sk-container-id-1 div.sk-parallel-item:only-child::after {width: 0;}#sk-container-id-1 div.sk-dashed-wrapped {border: 1px dashed gray;margin: 0 0.4em 0.5em 0.4em;box-sizing: border-box;padding-bottom: 0.4em;background-color: white;}#sk-container-id-1 div.sk-label label {font-family: monospace;font-weight: bold;display: inline-block;line-height: 1.2em;}#sk-container-id-1 div.sk-label-container {text-align: center;}#sk-container-id-1 div.sk-container {/* jupyter's `normalize.less` sets `[hidden] { display: none; }` but bootstrap.min.css set `[hidden] { display: none !important; }` so we also need the `!important` here to be able to override the default hidden behavior on the sphinx rendered scikit-learn.org. See: https://github.com/scikit-learn/scikit-learn/issues/21755 */display: inline-block !important;position: relative;}#sk-container-id-1 div.sk-text-repr-fallback {display: none;}</style><div id=\"sk-container-id-1\" class=\"sk-top-container\"><div class=\"sk-text-repr-fallback\"><pre>LinearRegression()</pre><b>In a Jupyter environment, please rerun this cell to show the HTML representation or trust the notebook. <br />On GitHub, the HTML representation is unable to render, please try loading this page with nbviewer.org.</b></div><div class=\"sk-container\" hidden><div class=\"sk-item\"><div class=\"sk-estimator sk-toggleable\"><input class=\"sk-toggleable__control sk-hidden--visually\" id=\"sk-estimator-id-1\" type=\"checkbox\" checked><label for=\"sk-estimator-id-1\" class=\"sk-toggleable__label sk-toggleable__label-arrow\">LinearRegression</label><div class=\"sk-toggleable__content\"><pre>LinearRegression()</pre></div></div></div></div></div>"
      ],
      "text/plain": [
       "LinearRegression()"
      ]
     },
     "execution_count": 20,
     "metadata": {},
     "output_type": "execute_result"
    }
   ],
   "source": [
    "lr.fit(X_train,y_train)"
   ]
  },
  {
   "cell_type": "code",
   "execution_count": 21,
   "id": "845557eb",
   "metadata": {},
   "outputs": [
    {
     "data": {
      "text/plain": [
       "1.0"
      ]
     },
     "execution_count": 21,
     "metadata": {},
     "output_type": "execute_result"
    }
   ],
   "source": [
    "lr.score(X_test, y_test)"
   ]
  },
  {
   "cell_type": "code",
   "execution_count": 22,
   "id": "307a1792",
   "metadata": {},
   "outputs": [],
   "source": [
    "ylr_pred = lr.predict(X_test)"
   ]
  },
  {
   "cell_type": "code",
   "execution_count": 23,
   "id": "cf19f40c",
   "metadata": {},
   "outputs": [
    {
     "data": {
      "text/plain": [
       "array([19.73, 10.53, 14.13, 18.13, 18.53, 16.73, 14.93, 16.13, 10.13,\n",
       "       18.13, 13.53, 16.13,  8.73, 14.53, 16.93, 15.13, 15.13, 11.53,\n",
       "       17.53, 14.13, 17.73, 11.33, 18.93, 12.93, 19.73, 12.33, 17.13,\n",
       "       13.93, 17.93, 18.33, 13.13, 21.33, 21.73, 17.53, 12.53, 18.13,\n",
       "       13.53,  8.93, 10.53, 17.13, 16.93, 14.93, 13.33, 21.13, 16.93,\n",
       "        9.53, 17.93, 12.53, 10.53, 15.53, 18.73, 13.73, 20.13, 14.13,\n",
       "       15.13, 15.13, 11.33, 17.53, 15.13, 13.13, 10.33, 16.13, 19.53,\n",
       "       18.13, 15.53, 14.33, 17.93, 11.53, 16.93, 19.93, 11.93, 13.73,\n",
       "       12.73, 16.13,  9.33, 19.13, 12.93, 16.53, 14.33, 15.73, 18.13,\n",
       "       13.93, 13.13, 14.33, 11.33, 18.13, 19.13, 17.93, 14.73, 10.13,\n",
       "       21.33, 17.93, 11.33, 19.33, 12.53, 17.93, 20.33, 15.73, 13.33,\n",
       "       17.93, 15.93, 19.93, 13.33, 12.33, 15.93, 15.13, 18.13, 12.73,\n",
       "       17.53, 11.73, 20.73, 18.93, 13.33,  8.53, 17.53, 14.93, 17.53,\n",
       "       16.13, 12.73, 13.33, 13.33, 16.53, 14.73, 19.53, 18.13, 14.13,\n",
       "       20.33, 13.93, 14.33, 12.73, 11.93, 12.53, 19.93, 15.73, 10.53,\n",
       "       18.73, 17.13, 18.33, 17.13, 19.73, 18.93, 14.53, 14.13, 13.33,\n",
       "       17.53, 17.33, 19.53, 13.93, 19.73, 13.93,  8.73, 21.33, 16.13,\n",
       "       20.93, 13.73, 11.13, 18.73, 14.53, 12.93, 10.93,  9.53, 13.13,\n",
       "       17.13, 16.93, 20.33, 11.13, 14.93, 17.13, 13.13, 11.73, 16.33,\n",
       "       10.33, 11.53,  9.93, 12.93, 14.73, 10.73, 16.73, 15.93, 17.93,\n",
       "       15.53,  9.53, 12.73,  9.93, 14.33, 19.53, 18.53, 12.33, 14.93,\n",
       "       16.93, 14.53, 14.53,  9.73, 13.13, 10.53, 16.53, 19.93, 16.73,\n",
       "       12.13, 10.13, 18.53, 13.73, 19.53, 17.53, 11.13, 11.13, 10.93,\n",
       "       13.13, 15.13, 10.53, 19.53, 10.33, 18.33, 20.13, 15.73, 16.73,\n",
       "       17.53, 16.33, 16.93, 19.53, 18.53, 12.93, 12.53, 18.13, 21.33,\n",
       "       12.73, 12.33, 18.93,  9.93, 11.73,  9.93, 13.33, 18.73, 17.93,\n",
       "       21.33, 16.73, 14.53, 14.93, 16.73, 16.33, 17.33, 19.53, 14.33,\n",
       "       15.13, 19.53, 12.93, 10.33, 20.13, 15.93, 20.33, 14.93, 20.93,\n",
       "       14.93, 14.33, 17.93, 17.13, 12.33, 12.53, 13.93, 16.93, 17.13,\n",
       "       18.13, 17.33, 18.13, 11.93, 13.93, 13.93, 18.73,  9.53, 11.93,\n",
       "       15.73,  9.93, 13.33, 17.93, 20.53, 20.73,  9.73, 10.33, 13.73,\n",
       "       12.13, 15.73, 18.33, 12.53, 18.73, 10.73, 17.93, 20.93, 12.13,\n",
       "       13.53, 16.93, 14.93, 21.93, 17.33, 14.33, 16.53, 11.93, 20.13,\n",
       "       19.93, 14.93, 16.93,  9.93,  8.93, 13.73, 10.33, 14.93, 15.53,\n",
       "       14.53, 13.33, 13.53, 12.53, 17.53, 14.93, 11.53, 12.53, 19.93,\n",
       "       16.93, 18.33, 11.93, 13.53, 16.53, 15.53, 18.53, 15.93, 12.53,\n",
       "        9.73, 10.53, 16.93, 17.73, 11.33, 12.53, 12.13, 19.33, 13.33,\n",
       "       19.53,  9.93, 11.93, 11.33, 20.73, 12.53, 15.53, 15.93, 15.33,\n",
       "       15.53, 13.93, 16.73, 16.73, 19.33, 14.73, 10.53, 13.53, 21.33,\n",
       "       18.73, 14.93, 15.53, 16.13, 10.93, 13.13, 17.93, 11.73, 19.33,\n",
       "        9.53, 18.33, 13.13, 12.73, 11.93, 14.53, 11.33, 20.33,  9.73,\n",
       "       16.53, 19.13, 11.13, 16.13, 10.73, 15.73, 12.93, 15.53, 17.73,\n",
       "       16.93, 12.13, 15.93, 18.53, 19.93,  9.93, 17.13, 16.33, 12.73,\n",
       "       13.53, 16.93, 12.33, 12.73, 13.13, 14.73, 15.53, 17.93, 15.53,\n",
       "       13.33, 10.53, 19.13, 14.53])"
      ]
     },
     "execution_count": 23,
     "metadata": {},
     "output_type": "execute_result"
    }
   ],
   "source": [
    "ylr_pred"
   ]
  },
  {
   "cell_type": "code",
   "execution_count": null,
   "id": "6d8c2776",
   "metadata": {},
   "outputs": [],
   "source": []
  }
 ],
 "metadata": {
  "kernelspec": {
   "display_name": "Python 3 (ipykernel)",
   "language": "python",
   "name": "python3"
  },
  "language_info": {
   "codemirror_mode": {
    "name": "ipython",
    "version": 3
   },
   "file_extension": ".py",
   "mimetype": "text/x-python",
   "name": "python",
   "nbconvert_exporter": "python",
   "pygments_lexer": "ipython3",
   "version": "3.11.5"
  }
 },
 "nbformat": 4,
 "nbformat_minor": 5
}
