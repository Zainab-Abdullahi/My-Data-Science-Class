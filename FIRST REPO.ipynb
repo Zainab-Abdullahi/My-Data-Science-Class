{
 "cells": [
  {
   "cell_type": "markdown",
   "id": "6bdde4a6",
   "metadata": {},
   "source": [
    "# THIS IS A COMMENT"
   ]
  },
  {
   "cell_type": "code",
   "execution_count": 22,
   "id": "0ce869eb",
   "metadata": {},
   "outputs": [
    {
     "name": "stdout",
     "output_type": "stream",
     "text": [
      "Zainab\n"
     ]
    }
   ],
   "source": [
    "print (\"Zainab\")"
   ]
  },
  {
   "cell_type": "code",
   "execution_count": 23,
   "id": "542d8f97",
   "metadata": {},
   "outputs": [],
   "source": [
    "import pandas as pd\n",
    "import numpy as np\n",
    "import squarify\n",
    "import matplotlib.pyplot as plt\n",
    "import seaborn as sns"
   ]
  },
  {
   "cell_type": "code",
   "execution_count": 24,
   "id": "dc2b30e8",
   "metadata": {},
   "outputs": [
    {
     "name": "stdout",
     "output_type": "stream",
     "text": [
      "hello\n"
     ]
    }
   ],
   "source": [
    "print(\"hello\")"
   ]
  },
  {
   "cell_type": "code",
   "execution_count": 25,
   "id": "37508699",
   "metadata": {},
   "outputs": [
    {
     "name": "stdout",
     "output_type": "stream",
     "text": [
      "224\n"
     ]
    }
   ],
   "source": [
    "x = 4\n",
    "y = 7\n",
    "z = 8\n",
    "print(x*y*z)"
   ]
  },
  {
   "cell_type": "code",
   "execution_count": 26,
   "id": "11a3d345",
   "metadata": {},
   "outputs": [
    {
     "data": {
      "text/plain": [
       "['Banana', 'Apple', 'Orange', 'Kiwi', 'Pineapple', 'Strawberry']"
      ]
     },
     "execution_count": 26,
     "metadata": {},
     "output_type": "execute_result"
    }
   ],
   "source": [
    "Fruits = [\"Banana\",\"Apple\",\"Orange\",\"Kiwi\",\"Pineapple\",\"Strawberry\"]\n",
    "Fruits"
   ]
  },
  {
   "cell_type": "markdown",
   "id": "a6416555",
   "metadata": {},
   "source": [
    "# HELLO\n",
    "- DATA SCIENCE"
   ]
  },
  {
   "cell_type": "code",
   "execution_count": 27,
   "id": "89392dad",
   "metadata": {},
   "outputs": [],
   "source": [
    "\n",
    "# Dictionary of food items\n",
    "fruits_list = {\n",
    "    'Food': ['Apple', 'Banana', 'Carrot', 'Donut', 'Egg', 'Fish', 'Grapes', 'Ham', 'Ice Cream', 'Juice'],\n",
    "    'Category': ['Fruit', 'Fruit', 'Vegetable', 'Dessert', 'Protein', 'Protein', 'Fruit', 'Protein', 'Dessert', 'Beverage'],\n",
    "    'Price': [0.5, 0.3, 0.4, 1.0, 0.2, 3.0, 2.5, 5.0, 1.5, 2.0]\n",
    "}\n",
    "\n"
   ]
  },
  {
   "cell_type": "code",
   "execution_count": 28,
   "id": "7fcc5927",
   "metadata": {},
   "outputs": [],
   "source": [
    "# Creating DataFrame\n",
    "food_df = pd.DataFrame(fruits_list)"
   ]
  },
  {
   "cell_type": "code",
   "execution_count": 29,
   "id": "33f12627",
   "metadata": {},
   "outputs": [],
   "source": [
    "food_frame = food_df"
   ]
  },
  {
   "cell_type": "code",
   "execution_count": 30,
   "id": "56f6ef39",
   "metadata": {},
   "outputs": [
    {
     "name": "stdout",
     "output_type": "stream",
     "text": [
      "        Food   Category  Price\n",
      "0      Apple      Fruit    0.5\n",
      "1     Banana      Fruit    0.3\n",
      "2     Carrot  Vegetable    0.4\n",
      "3      Donut    Dessert    1.0\n",
      "4        Egg    Protein    0.2\n",
      "5       Fish    Protein    3.0\n",
      "6     Grapes      Fruit    2.5\n",
      "7        Ham    Protein    5.0\n",
      "8  Ice Cream    Dessert    1.5\n",
      "9      Juice   Beverage    2.0\n"
     ]
    }
   ],
   "source": [
    "print(food_frame)"
   ]
  },
  {
   "cell_type": "code",
   "execution_count": null,
   "id": "ecaa1cbd",
   "metadata": {},
   "outputs": [],
   "source": []
  }
 ],
 "metadata": {
  "kernelspec": {
   "display_name": "Python 3 (ipykernel)",
   "language": "python",
   "name": "python3"
  },
  "language_info": {
   "codemirror_mode": {
    "name": "ipython",
    "version": 3
   },
   "file_extension": ".py",
   "mimetype": "text/x-python",
   "name": "python",
   "nbconvert_exporter": "python",
   "pygments_lexer": "ipython3",
   "version": "3.11.5"
  }
 },
 "nbformat": 4,
 "nbformat_minor": 5
}
