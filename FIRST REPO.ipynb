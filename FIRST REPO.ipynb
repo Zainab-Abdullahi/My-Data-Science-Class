{
 "cells": [
  {
   "cell_type": "markdown",
   "id": "6bdde4a6",
   "metadata": {},
   "source": [
    "# THIS IS A COMMENT"
   ]
  },
  {
   "cell_type": "code",
   "execution_count": 2,
   "id": "0ce869eb",
   "metadata": {},
   "outputs": [
    {
     "name": "stdout",
     "output_type": "stream",
     "text": [
      "Zainab\n"
     ]
    }
   ],
   "source": [
    "print (\"Zainab\")"
   ]
  },
  {
   "cell_type": "code",
   "execution_count": 3,
   "id": "375fa82f",
   "metadata": {},
   "outputs": [
    {
     "name": "stdout",
     "output_type": "stream",
     "text": [
      "Hello\n"
     ]
    }
   ],
   "source": [
    "print (\"Hello\")"
   ]
  },
  {
   "cell_type": "code",
   "execution_count": 4,
   "id": "542d8f97",
   "metadata": {},
   "outputs": [],
   "source": [
    "import pandas as pd\n",
    "import numpy as np\n",
    "import squarify\n",
    "import matplotlib.pyplot as plt\n",
    "import seaborn as sns"
   ]
  },
  {
   "cell_type": "code",
   "execution_count": 5,
   "id": "dc2b30e8",
   "metadata": {},
   "outputs": [
    {
     "name": "stdout",
     "output_type": "stream",
     "text": [
      "hello\n"
     ]
    }
   ],
   "source": [
    "print(\"hello\")"
   ]
  },
  {
   "cell_type": "code",
   "execution_count": 6,
   "id": "37508699",
   "metadata": {},
   "outputs": [
    {
     "name": "stdout",
     "output_type": "stream",
     "text": [
      "224\n"
     ]
    }
   ],
   "source": [
    "x = 4\n",
    "y = 7\n",
    "z = 8\n",
    "print(x*y*z)"
   ]
  },
  {
   "cell_type": "code",
   "execution_count": 7,
   "id": "11a3d345",
   "metadata": {},
   "outputs": [
    {
     "data": {
      "text/plain": [
       "['Banana', 'Apple', 'Orange', 'Kiwi', 'Pineapple', 'Strawberry']"
      ]
     },
     "execution_count": 7,
     "metadata": {},
     "output_type": "execute_result"
    }
   ],
   "source": [
    "Fruits = [\"Banana\",\"Apple\",\"Orange\",\"Kiwi\",\"Pineapple\",\"Strawberry\"]\n",
    "Fruits"
   ]
  },
  {
   "cell_type": "markdown",
   "id": "a6416555",
   "metadata": {},
   "source": [
    "# HELLO\n",
    "- DATA SCIENCE"
   ]
  },
  {
   "cell_type": "code",
   "execution_count": 8,
   "id": "89392dad",
   "metadata": {},
   "outputs": [],
   "source": [
    "\n",
    "# Dictionary of food items\n",
    "fruits_list = {\n",
    "    'Food': ['Apple', 'Banana', 'Carrot', 'Donut', 'Egg', 'Fish', 'Grapes', 'Ham', 'Ice Cream', 'Juice'],\n",
    "    'Category': ['Fruit', 'Fruit', 'Vegetable', 'Dessert', 'Protein', 'Protein', 'Fruit', 'Protein', 'Dessert', 'Beverage'],\n",
    "    'Price': [0.5, 0.3, 0.4, 1.0, 0.2, 3.0, 2.5, 5.0, 1.5, 2.0]\n",
    "}\n",
    "\n"
   ]
  },
  {
   "cell_type": "code",
   "execution_count": 9,
   "id": "7fcc5927",
   "metadata": {},
   "outputs": [],
   "source": [
    "# Creating DataFrame\n",
    "food_df = pd.DataFrame(fruits_list)"
   ]
  },
  {
   "cell_type": "code",
   "execution_count": 10,
   "id": "33f12627",
   "metadata": {},
   "outputs": [],
   "source": [
    "food_frame = food_df"
   ]
  },
  {
   "cell_type": "code",
   "execution_count": 13,
   "id": "08532d04",
   "metadata": {},
   "outputs": [
    {
     "data": {
      "text/plain": [
       "0        Apple\n",
       "1       Banana\n",
       "2       Carrot\n",
       "3        Donut\n",
       "4          Egg\n",
       "5         Fish\n",
       "6       Grapes\n",
       "7          Ham\n",
       "8    Ice Cream\n",
       "9        Juice\n",
       "Name: Food, dtype: object"
      ]
     },
     "execution_count": 13,
     "metadata": {},
     "output_type": "execute_result"
    }
   ],
   "source": [
    "food_frame[\"Food\"]"
   ]
  },
  {
   "cell_type": "code",
   "execution_count": null,
   "id": "56f6ef39",
   "metadata": {},
   "outputs": [
    {
     "name": "stdout",
     "output_type": "stream",
     "text": [
      "        Food   Category  Price\n",
      "0      Apple      Fruit    0.5\n",
      "1     Banana      Fruit    0.3\n",
      "2     Carrot  Vegetable    0.4\n",
      "3      Donut    Dessert    1.0\n",
      "4        Egg    Protein    0.2\n",
      "5       Fish    Protein    3.0\n",
      "6     Grapes      Fruit    2.5\n",
      "7        Ham    Protein    5.0\n",
      "8  Ice Cream    Dessert    1.5\n",
      "9      Juice   Beverage    2.0\n"
     ]
    }
   ],
   "source": [
    "print(food_frame)"
   ]
  },
  {
   "cell_type": "code",
   "execution_count": null,
   "id": "ecaa1cbd",
   "metadata": {},
   "outputs": [
    {
     "name": "stdout",
     "output_type": "stream",
     "text": [
      "REALITY\n"
     ]
    }
   ],
   "source": [
    "print(\"REALITY\")"
   ]
  },
  {
   "cell_type": "code",
   "execution_count": null,
   "id": "e4a290f8",
   "metadata": {},
   "outputs": [],
   "source": [
    "import numpy as np\n",
    "A = [2,5,7,3,3,5,6,6,5,2,1,9]"
   ]
  },
  {
   "cell_type": "code",
   "execution_count": null,
   "id": "6a087c0e",
   "metadata": {},
   "outputs": [
    {
     "name": "stdout",
     "output_type": "stream",
     "text": [
      "The mean price of the food items is: 1.64\n"
     ]
    }
   ],
   "source": [
    "# Calculating the mean of the 'Price' column using NumPy\n",
    "mean_price = np.mean(food_frame['Price'])\n",
    "\n",
    "print(f'The mean price of the food items is: {mean_price}')\n"
   ]
  },
  {
   "cell_type": "code",
   "execution_count": null,
   "id": "c5324719",
   "metadata": {
    "scrolled": true
   },
   "outputs": [
    {
     "data": {
      "text/plain": [
       "0    0.5\n",
       "1    0.3\n",
       "2    0.4\n",
       "3    1.0\n",
       "4    0.2\n",
       "5    3.0\n",
       "6    2.5\n",
       "7    5.0\n",
       "8    1.5\n",
       "9    2.0\n",
       "Name: Price, dtype: float64"
      ]
     },
     "execution_count": 14,
     "metadata": {},
     "output_type": "execute_result"
    }
   ],
   "source": [
    "food_frame[\"Price\"]"
   ]
  },
  {
   "cell_type": "code",
   "execution_count": null,
   "id": "f4ced67b",
   "metadata": {},
   "outputs": [
    {
     "name": "stdout",
     "output_type": "stream",
     "text": [
      "x\n"
     ]
    }
   ],
   "source": [
    "print(\"x\")"
   ]
  },
  {
   "cell_type": "code",
   "execution_count": null,
   "id": "dfc29f64",
   "metadata": {},
   "outputs": [
    {
     "data": {
      "text/plain": [
       "array([ 0,  1,  2,  3,  4,  5,  6,  7,  8,  9, 10, 11, 12, 13, 14, 15, 16,\n",
       "       17, 18, 19, 20, 21, 22, 23, 24, 25, 26, 27, 28, 29, 30, 31, 32, 33,\n",
       "       34, 35, 36, 37, 38, 39, 40, 41, 42, 43, 44, 45, 46, 47, 48, 49])"
      ]
     },
     "execution_count": 16,
     "metadata": {},
     "output_type": "execute_result"
    }
   ],
   "source": [
    "import numpy as np\n",
    "np.arange(50)"
   ]
  },
  {
   "cell_type": "code",
   "execution_count": null,
   "id": "ec407a71",
   "metadata": {},
   "outputs": [
    {
     "data": {
      "text/plain": [
       "array([0.13876078, 0.33527927, 0.4777668 , 0.55981723, 0.36818625,\n",
       "       0.97064377, 0.30940265, 0.28449539, 0.5438785 , 0.75437177])"
      ]
     },
     "execution_count": 17,
     "metadata": {},
     "output_type": "execute_result"
    }
   ],
   "source": [
    "np.random.random(10)"
   ]
  },
  {
   "cell_type": "code",
   "execution_count": null,
   "id": "6577d10c",
   "metadata": {},
   "outputs": [
    {
     "data": {
      "text/plain": [
       "4.5"
      ]
     },
     "execution_count": 18,
     "metadata": {},
     "output_type": "execute_result"
    }
   ],
   "source": [
    "A = [2,5,7,3,3,5,6,6,5,2,1,9]\n",
    "np.mean(A)"
   ]
  },
  {
   "cell_type": "code",
   "execution_count": null,
   "id": "74768b7c",
   "metadata": {},
   "outputs": [
    {
     "name": "stdout",
     "output_type": "stream",
     "text": [
      "hello\n"
     ]
    }
   ],
   "source": [
    "print (\"hello\")"
   ]
  },
  {
   "cell_type": "code",
   "execution_count": null,
   "id": "7527b75f",
   "metadata": {},
   "outputs": [
    {
     "data": {
      "text/plain": [
       "54"
      ]
     },
     "execution_count": 20,
     "metadata": {},
     "output_type": "execute_result"
    }
   ],
   "source": [
    "import numpy as np\n",
    "A = [2,5,7,3,3,5,6,6,5,2,1,9]\n",
    "np.sum(A)"
   ]
  },
  {
   "cell_type": "code",
   "execution_count": null,
   "id": "9c3c2ca2",
   "metadata": {},
   "outputs": [
    {
     "data": {
      "text/plain": [
       "29"
      ]
     },
     "execution_count": 21,
     "metadata": {},
     "output_type": "execute_result"
    }
   ],
   "source": [
    "import numpy as np\n",
    "A=[3,5,6,7,8]\n",
    "np.sum(A)"
   ]
  },
  {
   "cell_type": "code",
   "execution_count": null,
   "id": "3f632d17",
   "metadata": {},
   "outputs": [
    {
     "data": {
      "text/plain": [
       "5.8"
      ]
     },
     "execution_count": 22,
     "metadata": {},
     "output_type": "execute_result"
    }
   ],
   "source": [
    "np.mean(A)"
   ]
  },
  {
   "cell_type": "code",
   "execution_count": null,
   "id": "3961b004",
   "metadata": {},
   "outputs": [
    {
     "data": {
      "text/plain": [
       "6.0"
      ]
     },
     "execution_count": 23,
     "metadata": {},
     "output_type": "execute_result"
    }
   ],
   "source": [
    "np.median(A)"
   ]
  },
  {
   "cell_type": "code",
   "execution_count": null,
   "id": "36b00a3c",
   "metadata": {},
   "outputs": [],
   "source": [
    "#Dictionary of food items\n",
    "food_item = {\n",
    "    'food':[\"Rice\", \"beans\", \"maize\"],\n",
    "    'Quantity':[3, 6, 8],\n",
    "    'price':[0.5, 0.6, 0.7],\n",
    "}"
   ]
  },
  {
   "cell_type": "code",
   "execution_count": null,
   "id": "95db38a0",
   "metadata": {},
   "outputs": [
    {
     "ename": "AttributeError",
     "evalue": "'dict' object has no attribute 'key'",
     "output_type": "error",
     "traceback": [
      "\u001b[1;31m---------------------------------------------------------------------------\u001b[0m",
      "\u001b[1;31mAttributeError\u001b[0m                            Traceback (most recent call last)",
      "Cell \u001b[1;32mIn[25], line 1\u001b[0m\n\u001b[1;32m----> 1\u001b[0m food_item\u001b[38;5;241m.\u001b[39mkey()\n",
      "\u001b[1;31mAttributeError\u001b[0m: 'dict' object has no attribute 'key'"
     ]
    }
   ],
   "source": [
    "food_item.key()"
   ]
  },
  {
   "cell_type": "code",
   "execution_count": null,
   "id": "5eadb1b7",
   "metadata": {},
   "outputs": [
    {
     "data": {
      "text/plain": [
       "['Zainab']"
      ]
     },
     "execution_count": 1,
     "metadata": {},
     "output_type": "execute_result"
    }
   ],
   "source": [
    " name = ['Zainab']\n",
    "name"
   ]
  },
  {
   "cell_type": "code",
   "execution_count": null,
   "id": "623c0723",
   "metadata": {},
   "outputs": [],
   "source": [
    "name.extend(name)"
   ]
  },
  {
   "cell_type": "code",
   "execution_count": null,
   "id": "43db0489",
   "metadata": {},
   "outputs": [],
   "source": [
    "name.extend(['Zainab'])"
   ]
  },
  {
   "cell_type": "code",
   "execution_count": null,
   "id": "f4c1df4f",
   "metadata": {},
   "outputs": [],
   "source": [
    "name[0] = name[0] + 'Sam'"
   ]
  },
  {
   "cell_type": "code",
   "execution_count": null,
   "id": "f7d14303",
   "metadata": {},
   "outputs": [
    {
     "data": {
      "text/plain": [
       "['ZainabSam', 'Zainab', 'Zainab']"
      ]
     },
     "execution_count": 30,
     "metadata": {},
     "output_type": "execute_result"
    }
   ],
   "source": [
    "name"
   ]
  },
  {
   "cell_type": "code",
   "execution_count": null,
   "id": "d3fd6799",
   "metadata": {},
   "outputs": [],
   "source": [
    "lst_=[1,2,3,4]\n",
    "tpl=(1,2,3,4)"
   ]
  },
  {
   "cell_type": "code",
   "execution_count": null,
   "id": "6b84e21b",
   "metadata": {},
   "outputs": [],
   "source": [
    "list3 = [1,2,3,4]\n",
    "list4 = [6,0,7,4]"
   ]
  },
  {
   "cell_type": "code",
   "execution_count": null,
   "id": "88fecb68",
   "metadata": {},
   "outputs": [],
   "source": [
    "list3.append(list4)"
   ]
  },
  {
   "cell_type": "code",
   "execution_count": null,
   "id": "851f8b6b",
   "metadata": {},
   "outputs": [
    {
     "data": {
      "text/plain": [
       "[1, 2, 3, 4, [6, 0, 7, 4]]"
      ]
     },
     "execution_count": 34,
     "metadata": {},
     "output_type": "execute_result"
    }
   ],
   "source": [
    "list3"
   ]
  },
  {
   "cell_type": "code",
   "execution_count": null,
   "id": "b78759ea",
   "metadata": {},
   "outputs": [],
   "source": [
    "list3.extend(list4)"
   ]
  },
  {
   "cell_type": "code",
   "execution_count": null,
   "id": "eaa32d6f",
   "metadata": {},
   "outputs": [
    {
     "data": {
      "text/plain": [
       "[1, 2, 3, 4, [6, 0, 7, 4], 6, 0, 7, 4]"
      ]
     },
     "execution_count": 36,
     "metadata": {},
     "output_type": "execute_result"
    }
   ],
   "source": [
    "list3"
   ]
  },
  {
   "cell_type": "code",
   "execution_count": null,
   "id": "464ec251",
   "metadata": {},
   "outputs": [
    {
     "data": {
      "text/plain": [
       "[1, 2, 3, 4, [6, 0, 7, 4], 6, 0, 7, 4, 2]"
      ]
     },
     "execution_count": 37,
     "metadata": {},
     "output_type": "execute_result"
    }
   ],
   "source": [
    "list3.append(2)\n",
    "list3"
   ]
  },
  {
   "cell_type": "code",
   "execution_count": null,
   "id": "ae285fc4",
   "metadata": {},
   "outputs": [],
   "source": [
    "lst_[1] = 20"
   ]
  },
  {
   "cell_type": "code",
   "execution_count": null,
   "id": "8e38770a",
   "metadata": {},
   "outputs": [
    {
     "data": {
      "text/plain": [
       "[1, 20, 3, 4]"
      ]
     },
     "execution_count": 39,
     "metadata": {},
     "output_type": "execute_result"
    }
   ],
   "source": [
    "lst_"
   ]
  },
  {
   "cell_type": "code",
   "execution_count": null,
   "id": "2bbf2102",
   "metadata": {},
   "outputs": [],
   "source": [
    "lst=['ola', 'sam', 'ife', 'ayo', 'ade']\n",
    "tpl=('ola', 'sam', 'ife', 'ayo', 'ade')"
   ]
  },
  {
   "cell_type": "code",
   "execution_count": null,
   "id": "bd2ae36b",
   "metadata": {},
   "outputs": [
    {
     "data": {
      "text/plain": [
       "'ayo'"
      ]
     },
     "execution_count": 41,
     "metadata": {},
     "output_type": "execute_result"
    }
   ],
   "source": [
    "lst[3]"
   ]
  },
  {
   "cell_type": "code",
   "execution_count": null,
   "id": "83cbb187",
   "metadata": {},
   "outputs": [
    {
     "data": {
      "text/plain": [
       "20"
      ]
     },
     "execution_count": 42,
     "metadata": {},
     "output_type": "execute_result"
    }
   ],
   "source": [
    "lst_[1]"
   ]
  },
  {
   "cell_type": "code",
   "execution_count": null,
   "id": "cf312b09",
   "metadata": {},
   "outputs": [],
   "source": [
    "towns = [['lagos','Aja','Orile','lekki'], 'enugu', 'kano', 'ilorin']"
   ]
  },
  {
   "cell_type": "code",
   "execution_count": null,
   "id": "72aa2181",
   "metadata": {},
   "outputs": [
    {
     "data": {
      "text/plain": [
       "'Orile'"
      ]
     },
     "execution_count": 44,
     "metadata": {},
     "output_type": "execute_result"
    }
   ],
   "source": [
    "towns[0][2]"
   ]
  },
  {
   "cell_type": "code",
   "execution_count": null,
   "id": "ffec484a",
   "metadata": {},
   "outputs": [
    {
     "data": {
      "text/plain": [
       "'lekki'"
      ]
     },
     "execution_count": 45,
     "metadata": {},
     "output_type": "execute_result"
    }
   ],
   "source": [
    "towns[0][-1]"
   ]
  },
  {
   "cell_type": "code",
   "execution_count": null,
   "id": "196e334a",
   "metadata": {},
   "outputs": [],
   "source": [
    "set1 = {1,2,5,6,87}\n",
    "set2 = {98,2,0,8,7}"
   ]
  },
  {
   "cell_type": "code",
   "execution_count": null,
   "id": "cf8cf466",
   "metadata": {},
   "outputs": [
    {
     "data": {
      "text/plain": [
       "{0, 1, 2, 5, 6, 7, 8, 87, 98}"
      ]
     },
     "execution_count": 47,
     "metadata": {},
     "output_type": "execute_result"
    }
   ],
   "source": [
    "universal_set = set1.union(set2)\n",
    "universal_set"
   ]
  },
  {
   "cell_type": "code",
   "execution_count": null,
   "id": "7d0a4b48",
   "metadata": {},
   "outputs": [
    {
     "data": {
      "text/plain": [
       "{2}"
      ]
     },
     "execution_count": 48,
     "metadata": {},
     "output_type": "execute_result"
    }
   ],
   "source": [
    "set1 & set2"
   ]
  },
  {
   "cell_type": "code",
   "execution_count": null,
   "id": "63062aaa",
   "metadata": {},
   "outputs": [
    {
     "data": {
      "text/plain": [
       "{0, 1, 2, 5, 6, 7, 8, 87, 98}"
      ]
     },
     "execution_count": 49,
     "metadata": {},
     "output_type": "execute_result"
    }
   ],
   "source": [
    "set1 | set2"
   ]
  },
  {
   "cell_type": "code",
   "execution_count": null,
   "id": "2566edd8",
   "metadata": {},
   "outputs": [
    {
     "data": {
      "text/plain": [
       "True"
      ]
     },
     "execution_count": 50,
     "metadata": {},
     "output_type": "execute_result"
    }
   ],
   "source": [
    "name = 'ola'\n",
    "name != 'olu'"
   ]
  },
  {
   "cell_type": "code",
   "execution_count": null,
   "id": "07d043fa",
   "metadata": {},
   "outputs": [
    {
     "data": {
      "text/plain": [
       "False"
      ]
     },
     "execution_count": 51,
     "metadata": {},
     "output_type": "execute_result"
    }
   ],
   "source": [
    "name == 'olu'"
   ]
  },
  {
   "cell_type": "code",
   "execution_count": null,
   "id": "5fb74ec5",
   "metadata": {},
   "outputs": [
    {
     "data": {
      "text/plain": [
       "True"
      ]
     },
     "execution_count": 52,
     "metadata": {},
     "output_type": "execute_result"
    }
   ],
   "source": [
    "2 > 1"
   ]
  },
  {
   "cell_type": "code",
   "execution_count": null,
   "id": "53ca93f7",
   "metadata": {},
   "outputs": [
    {
     "data": {
      "text/plain": [
       "True"
      ]
     },
     "execution_count": 53,
     "metadata": {},
     "output_type": "execute_result"
    }
   ],
   "source": [
    "3 < 4"
   ]
  },
  {
   "cell_type": "code",
   "execution_count": null,
   "id": "dde94940",
   "metadata": {},
   "outputs": [
    {
     "data": {
      "text/plain": [
       "False"
      ]
     },
     "execution_count": 54,
     "metadata": {},
     "output_type": "execute_result"
    }
   ],
   "source": [
    "8 < 2"
   ]
  },
  {
   "cell_type": "code",
   "execution_count": null,
   "id": "88208e1a",
   "metadata": {},
   "outputs": [],
   "source": [
    "if 1 < 0:\n",
    "    print('True')"
   ]
  },
  {
   "cell_type": "code",
   "execution_count": null,
   "id": "3ff06a60",
   "metadata": {},
   "outputs": [
    {
     "name": "stdout",
     "output_type": "stream",
     "text": [
      "Keep standing\n"
     ]
    }
   ],
   "source": [
    "gender = 'man'\n",
    "if gender == 'man':\n",
    "    print ('Keep standing')\n",
    "else:\n",
    "    print('sit down')"
   ]
  },
  {
   "cell_type": "code",
   "execution_count": null,
   "id": "d6cdccbb",
   "metadata": {},
   "outputs": [
    {
     "name": "stdout",
     "output_type": "stream",
     "text": [
      "What's your gender?\n"
     ]
    }
   ],
   "source": [
    "gender = 'bobrisky'\n",
    "if gender == 'man':\n",
    "    print ('Keep standing')\n",
    "elif gender=='woman':\n",
    "    print('sit down')\n",
    "else:\n",
    "  print(\"What's your gender?\")"
   ]
  },
  {
   "cell_type": "code",
   "execution_count": null,
   "id": "55063d5a",
   "metadata": {},
   "outputs": [
    {
     "name": "stdout",
     "output_type": "stream",
     "text": [
      "you are of age\n"
     ]
    }
   ],
   "source": [
    "age = 18\n",
    "if age < 18:\n",
    "    print('you are under age')\n",
    "elif age == 18:\n",
    "    print('you are of age')\n",
    "else:\n",
    "    print('you are an elder')"
   ]
  },
  {
   "cell_type": "code",
   "execution_count": 2,
   "id": "86ed10d6",
   "metadata": {},
   "outputs": [
    {
     "data": {
      "text/plain": [
       "'Nigeria'"
      ]
     },
     "execution_count": 2,
     "metadata": {},
     "output_type": "execute_result"
    }
   ],
   "source": [
    "# assign a variable\n",
    "x = \"Nigeria\"\n",
    "x"
   ]
  },
  {
   "cell_type": "code",
   "execution_count": 3,
   "id": "2411fd55",
   "metadata": {},
   "outputs": [
    {
     "data": {
      "text/plain": [
       "7"
      ]
     },
     "execution_count": 3,
     "metadata": {},
     "output_type": "execute_result"
    }
   ],
   "source": [
    "# check the length\n",
    "len(x)"
   ]
  },
  {
   "cell_type": "code",
   "execution_count": 4,
   "id": "8a280b9e",
   "metadata": {},
   "outputs": [
    {
     "name": "stdout",
     "output_type": "stream",
     "text": [
      "7\n"
     ]
    }
   ],
   "source": [
    "print(len(x))"
   ]
  },
  {
   "cell_type": "code",
   "execution_count": 12,
   "id": "f00f5906",
   "metadata": {},
   "outputs": [
    {
     "name": "stdout",
     "output_type": "stream",
     "text": [
      "N\n",
      "i\n",
      "g\n",
      "e\n",
      "r\n",
      "i\n",
      "a\n"
     ]
    }
   ],
   "source": [
    "# Call each letter \n",
    "for letter in \"Nigeria\":\n",
    "    print (letter)"
   ]
  },
  {
   "cell_type": "code",
   "execution_count": 13,
   "id": "9a5d6682",
   "metadata": {},
   "outputs": [],
   "source": [
    "sentence = \"Nigeria is a country\""
   ]
  },
  {
   "cell_type": "code",
   "execution_count": 18,
   "id": "37bf5cc5",
   "metadata": {},
   "outputs": [
    {
     "name": "stdout",
     "output_type": "stream",
     "text": [
      "N\n",
      "i\n",
      "g\n",
      "e\n",
      "r\n",
      "i\n",
      "a\n",
      " \n",
      "i\n",
      "s\n",
      " \n",
      "a\n",
      " \n",
      "c\n",
      "o\n",
      "u\n",
      "n\n",
      "t\n",
      "r\n",
      "y\n"
     ]
    }
   ],
   "source": [
    "# print each word\n",
    "for word in sentence:\n",
    "    print (word)"
   ]
  },
  {
   "cell_type": "code",
   "execution_count": 19,
   "id": "3f6de0e0",
   "metadata": {},
   "outputs": [],
   "source": [
    "# split each word\n",
    "country = \"Nigeria\"\n",
    "State = sentence.split()"
   ]
  },
  {
   "cell_type": "code",
   "execution_count": 20,
   "id": "c5be14e6",
   "metadata": {},
   "outputs": [
    {
     "data": {
      "text/plain": [
       "['Nigeria', 'is', 'a', 'country']"
      ]
     },
     "execution_count": 20,
     "metadata": {},
     "output_type": "execute_result"
    }
   ],
   "source": [
    "State"
   ]
  },
  {
   "cell_type": "code",
   "execution_count": 23,
   "id": "3b9d29db",
   "metadata": {},
   "outputs": [
    {
     "name": "stdout",
     "output_type": "stream",
     "text": [
      "['Nigeria', 'is', 'my', 'country']\n"
     ]
    }
   ],
   "source": [
    "# assign and split\n",
    "Sentence = \"Nigeria is my country\"\n",
    "river = Sentence.split()\n",
    "print(river)"
   ]
  },
  {
   "cell_type": "code",
   "execution_count": 26,
   "id": "c437ab42",
   "metadata": {},
   "outputs": [
    {
     "data": {
      "text/plain": [
       "'Nigeria is our country'"
      ]
     },
     "execution_count": 26,
     "metadata": {},
     "output_type": "execute_result"
    }
   ],
   "source": [
    "ket = Sentence.replace(\"my\",\"our\")\n",
    "ket"
   ]
  },
  {
   "cell_type": "code",
   "execution_count": null,
   "id": "dfb6b763",
   "metadata": {},
   "outputs": [],
   "source": []
  }
 ],
 "metadata": {
  "kernelspec": {
   "display_name": "Python 3 (ipykernel)",
   "language": "python",
   "name": "python3"
  },
  "language_info": {
   "codemirror_mode": {
    "name": "ipython",
    "version": 3
   },
   "file_extension": ".py",
   "mimetype": "text/x-python",
   "name": "python",
   "nbconvert_exporter": "python",
   "pygments_lexer": "ipython3",
   "version": "3.11.5"
  }
 },
 "nbformat": 4,
 "nbformat_minor": 5
}
