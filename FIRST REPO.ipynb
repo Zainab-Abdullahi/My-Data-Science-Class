{
 "cells": [
  {
   "cell_type": "markdown",
   "id": "6bdde4a6",
   "metadata": {},
   "source": [
    "# THIS IS A COMMENT"
   ]
  },
  {
   "cell_type": "code",
   "execution_count": 2,
   "id": "0ce869eb",
   "metadata": {},
   "outputs": [
    {
     "name": "stdout",
     "output_type": "stream",
     "text": [
      "Zainab\n"
     ]
    }
   ],
   "source": [
    "print (\"Zainab\")"
   ]
  },
  {
   "cell_type": "code",
   "execution_count": null,
   "id": "542d8f97",
   "metadata": {},
   "outputs": [],
   "source": [
    "import pandas as pd\n",
    "import numpy as np\n",
    "import squarify\n",
    "import matplotlib.pyplot as plt\n",
    "import seaborn as sns"
   ]
  },
  {
   "cell_type": "code",
   "execution_count": null,
   "id": "dc2b30e8",
   "metadata": {},
   "outputs": [],
   "source": []
  }
 ],
 "metadata": {
  "kernelspec": {
   "display_name": "Python 3 (ipykernel)",
   "language": "python",
   "name": "python3"
  },
  "language_info": {
   "codemirror_mode": {
    "name": "ipython",
    "version": 3
   },
   "file_extension": ".py",
   "mimetype": "text/x-python",
   "name": "python",
   "nbconvert_exporter": "python",
   "pygments_lexer": "ipython3",
   "version": "3.11.5"
  }
 },
 "nbformat": 4,
 "nbformat_minor": 5
}
