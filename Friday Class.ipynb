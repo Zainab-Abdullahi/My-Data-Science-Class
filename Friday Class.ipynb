{
 "cells": [
  {
   "cell_type": "markdown",
   "id": "0ee64948",
   "metadata": {},
   "source": [
    "# DATA VARIABLES"
   ]
  },
  {
   "cell_type": "code",
   "execution_count": 58,
   "id": "57ed8811",
   "metadata": {},
   "outputs": [],
   "source": [
    "x = \"Zainab\"\n",
    "y = 5\n",
    "z = 5.7\n",
    "w = True"
   ]
  },
  {
   "cell_type": "code",
   "execution_count": 59,
   "id": "ba5fe2df",
   "metadata": {},
   "outputs": [
    {
     "data": {
      "text/plain": [
       "'a'"
      ]
     },
     "execution_count": 59,
     "metadata": {},
     "output_type": "execute_result"
    }
   ],
   "source": [
    "x[1]"
   ]
  },
  {
   "cell_type": "code",
   "execution_count": 60,
   "id": "a1f301e3",
   "metadata": {},
   "outputs": [
    {
     "data": {
      "text/plain": [
       "6"
      ]
     },
     "execution_count": 60,
     "metadata": {},
     "output_type": "execute_result"
    }
   ],
   "source": [
    "type(x)\n",
    "len(x)"
   ]
  },
  {
   "cell_type": "code",
   "execution_count": 61,
   "id": "d2297ba7",
   "metadata": {},
   "outputs": [],
   "source": [
    "fruits = []"
   ]
  },
  {
   "cell_type": "code",
   "execution_count": 62,
   "id": "3827095d",
   "metadata": {},
   "outputs": [],
   "source": [
    "fruits.append(x)"
   ]
  },
  {
   "cell_type": "code",
   "execution_count": 63,
   "id": "bb04b717",
   "metadata": {},
   "outputs": [
    {
     "data": {
      "text/plain": [
       "['Zainab']"
      ]
     },
     "execution_count": 63,
     "metadata": {},
     "output_type": "execute_result"
    }
   ],
   "source": [
    "fruits"
   ]
  },
  {
   "cell_type": "code",
   "execution_count": 64,
   "id": "7d595427",
   "metadata": {},
   "outputs": [],
   "source": [
    "ADD = y+z"
   ]
  },
  {
   "cell_type": "code",
   "execution_count": 65,
   "id": "b4d9cfa4",
   "metadata": {},
   "outputs": [
    {
     "data": {
      "text/plain": [
       "10.7"
      ]
     },
     "execution_count": 65,
     "metadata": {},
     "output_type": "execute_result"
    }
   ],
   "source": [
    "ADD"
   ]
  },
  {
   "cell_type": "code",
   "execution_count": 66,
   "id": "9b91201d",
   "metadata": {},
   "outputs": [],
   "source": [
    "fruits.append(ADD)"
   ]
  },
  {
   "cell_type": "code",
   "execution_count": 67,
   "id": "b3896d28",
   "metadata": {},
   "outputs": [
    {
     "data": {
      "text/plain": [
       "['Zainab', 10.7]"
      ]
     },
     "execution_count": 67,
     "metadata": {},
     "output_type": "execute_result"
    }
   ],
   "source": [
    "fruits"
   ]
  },
  {
   "cell_type": "code",
   "execution_count": 68,
   "id": "dba6e7ff",
   "metadata": {},
   "outputs": [
    {
     "data": {
      "text/plain": [
       "1"
      ]
     },
     "execution_count": 68,
     "metadata": {},
     "output_type": "execute_result"
    }
   ],
   "source": [
    "int(True)"
   ]
  },
  {
   "cell_type": "code",
   "execution_count": 69,
   "id": "55878a70",
   "metadata": {},
   "outputs": [
    {
     "data": {
      "text/plain": [
       "1"
      ]
     },
     "execution_count": 69,
     "metadata": {},
     "output_type": "execute_result"
    }
   ],
   "source": [
    "int(w)"
   ]
  },
  {
   "cell_type": "code",
   "execution_count": 70,
   "id": "30796c00",
   "metadata": {},
   "outputs": [
    {
     "data": {
      "text/plain": [
       "0"
      ]
     },
     "execution_count": 70,
     "metadata": {},
     "output_type": "execute_result"
    }
   ],
   "source": [
    "int(False)"
   ]
  },
  {
   "cell_type": "code",
   "execution_count": 71,
   "id": "895d3225",
   "metadata": {},
   "outputs": [],
   "source": [
    "fruits.append(w)"
   ]
  },
  {
   "cell_type": "code",
   "execution_count": 72,
   "id": "bfa05119",
   "metadata": {},
   "outputs": [
    {
     "data": {
      "text/plain": [
       "['Zainab', 10.7, True]"
      ]
     },
     "execution_count": 72,
     "metadata": {},
     "output_type": "execute_result"
    }
   ],
   "source": [
    "fruits"
   ]
  },
  {
   "cell_type": "code",
   "execution_count": 73,
   "id": "43f2d742",
   "metadata": {},
   "outputs": [
    {
     "data": {
      "text/plain": [
       "3"
      ]
     },
     "execution_count": 73,
     "metadata": {},
     "output_type": "execute_result"
    }
   ],
   "source": [
    "len(fruits)"
   ]
  },
  {
   "cell_type": "code",
   "execution_count": 1,
   "id": "93196a93",
   "metadata": {},
   "outputs": [],
   "source": [
    "#List created\n",
    "West = [\"osun\", \"ogun\", \"ekiti\", \"ondo\", \"sokoto\"]\n",
    "North = [\"Kano\", \"Yola\", \"Jalingo\", \"Maiduguri\"]\n",
    "East = [\"Enugu\", \"Abia\", \"Delta\", \"Rivers\"]"
   ]
  },
  {
   "cell_type": "code",
   "execution_count": 75,
   "id": "48a6c799",
   "metadata": {},
   "outputs": [],
   "source": [
    "West[4] = \"lagos\""
   ]
  },
  {
   "cell_type": "code",
   "execution_count": 76,
   "id": "d2c2be2d",
   "metadata": {},
   "outputs": [
    {
     "data": {
      "text/plain": [
       "['osun', 'ogun', 'ekiti', 'ondo', 'lagos']"
      ]
     },
     "execution_count": 76,
     "metadata": {},
     "output_type": "execute_result"
    }
   ],
   "source": [
    "West"
   ]
  },
  {
   "cell_type": "code",
   "execution_count": 79,
   "id": "9e66634f",
   "metadata": {},
   "outputs": [
    {
     "data": {
      "text/plain": [
       "('osun', 'ogun', 'ekiti', 'ondo', 'lagos')"
      ]
     },
     "execution_count": 79,
     "metadata": {},
     "output_type": "execute_result"
    }
   ],
   "source": [
    "tuple(West)"
   ]
  },
  {
   "cell_type": "code",
   "execution_count": 81,
   "id": "d483718a",
   "metadata": {},
   "outputs": [
    {
     "data": {
      "text/plain": [
       "('Enugu', 'Abia', 'Delta', 'Rivers')"
      ]
     },
     "execution_count": 81,
     "metadata": {},
     "output_type": "execute_result"
    }
   ],
   "source": [
    "tuple(East)"
   ]
  },
  {
   "cell_type": "code",
   "execution_count": 89,
   "id": "30077db9",
   "metadata": {},
   "outputs": [],
   "source": [
    "Nigeria = {}"
   ]
  },
  {
   "cell_type": "code",
   "execution_count": 2,
   "id": "121a22ba",
   "metadata": {},
   "outputs": [
    {
     "ename": "NameError",
     "evalue": "name 'Nigeria' is not defined",
     "output_type": "error",
     "traceback": [
      "\u001b[1;31m---------------------------------------------------------------------------\u001b[0m",
      "\u001b[1;31mNameError\u001b[0m                                 Traceback (most recent call last)",
      "Cell \u001b[1;32mIn[2], line 2\u001b[0m\n\u001b[0;32m      1\u001b[0m \u001b[38;5;66;03m# Dictionary\u001b[39;00m\n\u001b[1;32m----> 2\u001b[0m Nigeria[\u001b[38;5;124m\"\u001b[39m\u001b[38;5;124mWest\u001b[39m\u001b[38;5;124m\"\u001b[39m]\u001b[38;5;241m=\u001b[39m West\n\u001b[0;32m      3\u001b[0m Nigeria[\u001b[38;5;124m\"\u001b[39m\u001b[38;5;124mNorth\u001b[39m\u001b[38;5;124m\"\u001b[39m]\u001b[38;5;241m=\u001b[39m North\n\u001b[0;32m      4\u001b[0m Nigeria[\u001b[38;5;124m\"\u001b[39m\u001b[38;5;124mEast\u001b[39m\u001b[38;5;124m\"\u001b[39m]\u001b[38;5;241m=\u001b[39m East\n",
      "\u001b[1;31mNameError\u001b[0m: name 'Nigeria' is not defined"
     ]
    }
   ],
   "source": [
    "Nigeria[\"West\"]= West\n",
    "Nigeria[\"North\"]= North\n",
    "Nigeria[\"East\"]= East\n",
    "Nigeria"
   ]
  },
  {
   "cell_type": "code",
   "execution_count": 90,
   "id": "7376b842",
   "metadata": {},
   "outputs": [
    {
     "data": {
      "text/plain": [
       "('Kano', 'Yola', 'Jalingo', 'Maiduguri')"
      ]
     },
     "execution_count": 90,
     "metadata": {},
     "output_type": "execute_result"
    }
   ],
   "source": [
    "tuple(North)"
   ]
  }
 ],
 "metadata": {
  "kernelspec": {
   "display_name": "Python 3 (ipykernel)",
   "language": "python",
   "name": "python3"
  },
  "language_info": {
   "codemirror_mode": {
    "name": "ipython",
    "version": 3
   },
   "file_extension": ".py",
   "mimetype": "text/x-python",
   "name": "python",
   "nbconvert_exporter": "python",
   "pygments_lexer": "ipython3",
   "version": "3.11.5"
  }
 },
 "nbformat": 4,
 "nbformat_minor": 5
}
